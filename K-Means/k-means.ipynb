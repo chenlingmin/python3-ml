{
 "cells": [
  {
   "cell_type": "markdown",
   "metadata": {},
   "source": [
    "# K-means "
   ]
  },
  {
   "cell_type": "code",
   "execution_count": 1,
   "metadata": {},
   "outputs": [],
   "source": [
    "import numpy as np\n",
    "import matplotlib.pyplot as plt"
   ]
  },
  {
   "cell_type": "code",
   "execution_count": 2,
   "metadata": {},
   "outputs": [],
   "source": [
    "def should_stop(old_centroids, centroids, iterations, max_it):\n",
    "    if iterations > max_it:\n",
    "        return True\n",
    "    return np.array_equal(old_centroids, centroids)\n",
    "\n",
    "def updata_lables(data_set, centroids):\n",
    "    num_point, num_dim = data_set.shape\n",
    "    for i in range(0, num_point):\n",
    "        data_set[i, -1] = get_label_from_closest_centroid(data_set[i, :-1], centroids)\n",
    "\n",
    "def get_label_from_closest_centroid(data_set_row, centroids):\n",
    "    label = centroids[0, -1]\n",
    "    min_dist = np.linalg.norm(data_set_row - centroids[0, :-1])\n",
    "    for i in range(1, centroids.shape[0]):\n",
    "        dist = np.linalg.norm(data_set_row - centroids[i, :-1])\n",
    "        if dist < min_dist:\n",
    "            min_dist = dist\n",
    "            label = centroids[i, -1]\n",
    "    return label\n",
    "\n",
    "\n",
    "def get_centroids(data_set, k):\n",
    "    result = np.zeros((k, data_set.shape[1]))\n",
    "    for i in range(1, k + 1):\n",
    "        one_cluster = data_set[data_set[:, -1] == i, :-1]\n",
    "        result[i - 1, :-1] = np.mean(one_cluster, axis=0)\n",
    "        result[i - 1, -1] = i\n",
    "    return result\n",
    "\n",
    "def kmeans(X, k, max_it):\n",
    "    num_point, num_dim = X.shape\n",
    "    data_set = np.zeros((num_point, num_dim + 1))\n",
    "    data_set[:, :-1] = X\n",
    "      \n",
    "    centroids = data_set[np.random.randint(num_point, size=k)]\n",
    "    centroids[:, -1] = range(1, k + 1)\n",
    "    \n",
    "    iterations = 0\n",
    "    old_centroids = None\n",
    "        \n",
    "    while not should_stop(old_centroids, centroids, iterations, max_it):\n",
    "       \n",
    "        old_centroids = np.copy(centroids)\n",
    "        iterations += 1\n",
    "        \n",
    "        updata_lables(data_set, centroids)\n",
    "        \n",
    "        centroids = get_centroids(data_set, k)\n",
    "        \n",
    "    return data_set\n",
    "        "
   ]
  },
  {
   "cell_type": "code",
   "execution_count": 3,
   "metadata": {},
   "outputs": [
    {
     "data": {
      "text/plain": [
       "<matplotlib.collections.PathCollection at 0x10649f898>"
      ]
     },
     "execution_count": 3,
     "metadata": {},
     "output_type": "execute_result"
    },
    {
     "data": {
      "image/png": "[encoded data removed]",
      "text/plain": [
       "<Figure size 432x288 with 1 Axes>"
      ]
     },
     "metadata": {},
     "output_type": "display_data"
    }
   ],
   "source": [
    "X1 = np.empty((100, 2))\n",
    "X1[:, 0] = np.random.normal(0, 0.1, size=100)\n",
    "X1[:, 1] = 0.75 * X1[:, 0] + np.random.normal(0, 0.3, size=100)\n",
    "\n",
    "X2 = np.empty((80, 2))\n",
    "X2[:, 0] = np.random.normal(0, 0.1, size=80) + 4\n",
    "X2[:, 1] = 0.75 * X2[:, 0] + np.random.normal(0, 0.4, size=80)\n",
    "\n",
    "\n",
    "X3 = np.empty((80, 2))\n",
    "X3[:, 0] = np.random.normal(0, 0.1, size=80) + 2\n",
    "X3[:, 1] = 0.75 * X3[:, 0] + np.random.normal(0, 0.4, size=80)\n",
    "\n",
    "\n",
    "plt.scatter(X1[:, 0], X1[:, 1])\n",
    "plt.scatter(X2[:, 0], X2[:, 1])\n",
    "plt.scatter(X3[:, 0], X3[:, 1])\n"
   ]
  },
  {
   "cell_type": "code",
   "execution_count": 4,
   "metadata": {},
   "outputs": [
    {
     "data": {
      "text/plain": [
       "<matplotlib.collections.PathCollection at 0x10651fc18>"
      ]
     },
     "execution_count": 4,
     "metadata": {},
     "output_type": "execute_result"
    },
    {
     "data": {
      "image/png": "[encoded data removed]",
      "text/plain": [
       "<Figure size 432x288 with 1 Axes>"
      ]
     },
     "metadata": {},
     "output_type": "display_data"
    }
   ],
   "source": [
    "X = np.vstack((X1, X2, X3))\n",
    "\n",
    "plt.scatter(X[:, 0], X[:, 1])"
   ]
  },
  {
   "cell_type": "code",
   "execution_count": 5,
   "metadata": {},
   "outputs": [
    {
     "data": {
      "text/plain": [
       "<matplotlib.collections.PathCollection at 0x106581dd8>"
      ]
     },
     "execution_count": 5,
     "metadata": {},
     "output_type": "execute_result"
    },
    {
     "data": {
      "image/png": "[encoded data removed]",
      "text/plain": [
       "<Figure size 432x288 with 1 Axes>"
      ]
     },
     "metadata": {},
     "output_type": "display_data"
    }
   ],
   "source": [
    "result = kmeans(X, 3, 50)\n",
    "result.shape\n",
    "plt.scatter(result[result[:, 2] == 1, 0], result[result[:, 2] == 1, 1])\n",
    "plt.scatter(result[result[:, 2] == 2, 0], result[result[:, 2] == 2, 1])\n",
    "plt.scatter(result[result[:, 2] == 3, 0], result[result[:, 2] == 3, 1])"
   ]
  },
  {
   "cell_type": "markdown",
   "metadata": {},
   "source": [
    "## scikit-learn 中的 KMeans"
   ]
  },
  {
   "cell_type": "code",
   "execution_count": 6,
   "metadata": {},
   "outputs": [],
   "source": [
    "from sklearn.cluster import KMeans\n",
    "\n",
    "k_means = KMeans(n_clusters=3)\n",
    "k_means.fit(X)\n",
    "Y = k_means.labels_"
   ]
  },
  {
   "cell_type": "code",
   "execution_count": 7,
   "metadata": {},
   "outputs": [
    {
     "data": {
      "text/plain": [
       "<matplotlib.collections.PathCollection at 0x1091b8f28>"
      ]
     },
     "execution_count": 7,
     "metadata": {},
     "output_type": "execute_result"
    },
    {
     "data": {
      "image/png": "[encoded data removed]",
      "text/plain": [
       "<Figure size 432x288 with 1 Axes>"
      ]
     },
     "metadata": {},
     "output_type": "display_data"
    }
   ],
   "source": [
    "plt.scatter(X[Y == 0, 0], X[Y == 0, 1])\n",
    "plt.scatter(X[Y == 1, 0], X[Y == 1, 1])\n",
    "plt.scatter(X[Y == 2, 0], X[Y == 2, 1])"
   ]
  }
 ],
 "metadata": {
  "kernelspec": {
   "display_name": "Python 3",
   "language": "python",
   "name": "python3"
  },
  "language_info": {
   "codemirror_mode": {
    "name": "ipython",
    "version": 3
   },
   "file_extension": ".py",
   "mimetype": "text/x-python",
   "name": "python",
   "nbconvert_exporter": "python",
   "pygments_lexer": "ipython3",
   "version": "3.6.5"
  }
 },
 "nbformat": 4,
 "nbformat_minor": 2
}
