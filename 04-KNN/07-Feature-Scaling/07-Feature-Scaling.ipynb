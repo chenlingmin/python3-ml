{
 "cells": [
  {
   "cell_type": "markdown",
   "metadata": {},
   "source": [
    "# 数据归一化处理"
   ]
  },
  {
   "cell_type": "code",
   "execution_count": 1,
   "metadata": {},
   "outputs": [],
   "source": [
    "import numpy as np\n",
    "import matplotlib.pyplot as plt"
   ]
  },
  {
   "cell_type": "markdown",
   "metadata": {},
   "source": [
    "## 最值归一化 Normalization"
   ]
  },
  {
   "cell_type": "code",
   "execution_count": 2,
   "metadata": {},
   "outputs": [],
   "source": [
    "x = np.random.randint(0, 100, size=100)"
   ]
  },
  {
   "cell_type": "code",
   "execution_count": 3,
   "metadata": {},
   "outputs": [
    {
     "data": {
      "text/plain": [
       "array([22, 83,  2, 38,  7, 59, 20,  6, 40, 52, 82,  1, 43, 25, 83, 60, 62,\n",
       "       31, 35, 68, 93, 59,  1, 11, 49, 16, 85, 39, 24, 13, 27, 90, 30, 64,\n",
       "       41, 73, 57, 38, 61, 77, 92, 95, 88, 47, 26, 42, 27, 15, 90, 72, 43,\n",
       "       95,  2, 89, 85,  6, 73, 76,  7,  5, 56, 50, 61,  8, 29, 96, 73, 84,\n",
       "        2, 93, 51, 78, 45, 68, 51, 31, 25, 41, 88, 32, 40, 12, 45, 45, 52,\n",
       "       14, 67,  5, 87, 94, 70, 61, 43, 11, 86, 77, 32, 62, 71, 36])"
      ]
     },
     "execution_count": 3,
     "metadata": {},
     "output_type": "execute_result"
    }
   ],
   "source": [
    "x"
   ]
  },
  {
   "cell_type": "code",
   "execution_count": 4,
   "metadata": {},
   "outputs": [
    {
     "data": {
      "text/plain": [
       "array([0.22105263, 0.86315789, 0.01052632, 0.38947368, 0.06315789,\n",
       "       0.61052632, 0.2       , 0.05263158, 0.41052632, 0.53684211,\n",
       "       0.85263158, 0.        , 0.44210526, 0.25263158, 0.86315789,\n",
       "       0.62105263, 0.64210526, 0.31578947, 0.35789474, 0.70526316,\n",
       "       0.96842105, 0.61052632, 0.        , 0.10526316, 0.50526316,\n",
       "       0.15789474, 0.88421053, 0.4       , 0.24210526, 0.12631579,\n",
       "       0.27368421, 0.93684211, 0.30526316, 0.66315789, 0.42105263,\n",
       "       0.75789474, 0.58947368, 0.38947368, 0.63157895, 0.8       ,\n",
       "       0.95789474, 0.98947368, 0.91578947, 0.48421053, 0.26315789,\n",
       "       0.43157895, 0.27368421, 0.14736842, 0.93684211, 0.74736842,\n",
       "       0.44210526, 0.98947368, 0.01052632, 0.92631579, 0.88421053,\n",
       "       0.05263158, 0.75789474, 0.78947368, 0.06315789, 0.04210526,\n",
       "       0.57894737, 0.51578947, 0.63157895, 0.07368421, 0.29473684,\n",
       "       1.        , 0.75789474, 0.87368421, 0.01052632, 0.96842105,\n",
       "       0.52631579, 0.81052632, 0.46315789, 0.70526316, 0.52631579,\n",
       "       0.31578947, 0.25263158, 0.42105263, 0.91578947, 0.32631579,\n",
       "       0.41052632, 0.11578947, 0.46315789, 0.46315789, 0.53684211,\n",
       "       0.13684211, 0.69473684, 0.04210526, 0.90526316, 0.97894737,\n",
       "       0.72631579, 0.63157895, 0.44210526, 0.10526316, 0.89473684,\n",
       "       0.8       , 0.32631579, 0.64210526, 0.73684211, 0.36842105])"
      ]
     },
     "execution_count": 4,
     "metadata": {},
     "output_type": "execute_result"
    }
   ],
   "source": [
    "(x - np.min(x)) / (np.max(x) - np.min(x))"
   ]
  },
  {
   "cell_type": "code",
   "execution_count": 5,
   "metadata": {},
   "outputs": [],
   "source": [
    "X = np.random.randint(0, 100, (50, 2))"
   ]
  },
  {
   "cell_type": "code",
   "execution_count": 6,
   "metadata": {},
   "outputs": [
    {
     "data": {
      "text/plain": [
       "array([[29, 56],\n",
       "       [35, 95],\n",
       "       [74, 98],\n",
       "       [ 7,  3],\n",
       "       [67, 20],\n",
       "       [10, 56],\n",
       "       [42, 90],\n",
       "       [20, 13],\n",
       "       [67, 75],\n",
       "       [83, 41]])"
      ]
     },
     "execution_count": 6,
     "metadata": {},
     "output_type": "execute_result"
    }
   ],
   "source": [
    "X[:10,:]"
   ]
  },
  {
   "cell_type": "code",
   "execution_count": 7,
   "metadata": {},
   "outputs": [],
   "source": [
    "X = np.array(X, dtype=float)"
   ]
  },
  {
   "cell_type": "code",
   "execution_count": 8,
   "metadata": {},
   "outputs": [
    {
     "data": {
      "text/plain": [
       "array([[29., 56.],\n",
       "       [35., 95.],\n",
       "       [74., 98.],\n",
       "       [ 7.,  3.],\n",
       "       [67., 20.],\n",
       "       [10., 56.],\n",
       "       [42., 90.],\n",
       "       [20., 13.],\n",
       "       [67., 75.],\n",
       "       [83., 41.]])"
      ]
     },
     "execution_count": 8,
     "metadata": {},
     "output_type": "execute_result"
    }
   ],
   "source": [
    "X[:10, :]"
   ]
  },
  {
   "cell_type": "code",
   "execution_count": 9,
   "metadata": {},
   "outputs": [],
   "source": [
    "X[:, 0] = (X[:, 0] - np.min(X[:, 0])) / (np.max(X[:, 0]) - np.min(X[:, 0]))"
   ]
  },
  {
   "cell_type": "code",
   "execution_count": 10,
   "metadata": {},
   "outputs": [],
   "source": [
    "X[:, 1] = (X[:, 1] - np.min(X[:, 1])) / (np.max(X[:, 1]) - np.min(X[:, 1]))"
   ]
  },
  {
   "cell_type": "code",
   "execution_count": 11,
   "metadata": {},
   "outputs": [
    {
     "data": {
      "text/plain": [
       "array([[0.29292929, 0.55789474],\n",
       "       [0.35353535, 0.96842105],\n",
       "       [0.74747475, 1.        ],\n",
       "       [0.07070707, 0.        ],\n",
       "       [0.67676768, 0.17894737],\n",
       "       [0.1010101 , 0.55789474],\n",
       "       [0.42424242, 0.91578947],\n",
       "       [0.2020202 , 0.10526316],\n",
       "       [0.67676768, 0.75789474],\n",
       "       [0.83838384, 0.4       ]])"
      ]
     },
     "execution_count": 11,
     "metadata": {},
     "output_type": "execute_result"
    }
   ],
   "source": [
    "X[:10, :]"
   ]
  },
  {
   "cell_type": "code",
   "execution_count": 12,
   "metadata": {},
   "outputs": [
    {
     "data": {
      "text/plain": [
       "<matplotlib.collections.PathCollection at 0x10b4fbf28>"
      ]
     },
     "execution_count": 12,
     "metadata": {},
     "output_type": "execute_result"
    },
    {
     "data": {
      "image/png": "[encoded data removed]",
      "text/plain": [
       "<Figure size 432x288 with 1 Axes>"
      ]
     },
     "metadata": {},
     "output_type": "display_data"
    }
   ],
   "source": [
    "plt.scatter(X[:, 0], X[:, 1])"
   ]
  },
  {
   "cell_type": "code",
   "execution_count": 13,
   "metadata": {},
   "outputs": [
    {
     "data": {
      "text/plain": [
       "0.5224242424242423"
      ]
     },
     "execution_count": 13,
     "metadata": {},
     "output_type": "execute_result"
    }
   ],
   "source": [
    "np.mean(X[:,0])"
   ]
  },
  {
   "cell_type": "code",
   "execution_count": 14,
   "metadata": {},
   "outputs": [
    {
     "data": {
      "text/plain": [
       "0.28431097649219156"
      ]
     },
     "execution_count": 14,
     "metadata": {},
     "output_type": "execute_result"
    }
   ],
   "source": [
    "np.std(X[:,0])"
   ]
  },
  {
   "cell_type": "code",
   "execution_count": 15,
   "metadata": {},
   "outputs": [
    {
     "data": {
      "text/plain": [
       "0.48694736842105263"
      ]
     },
     "execution_count": 15,
     "metadata": {},
     "output_type": "execute_result"
    }
   ],
   "source": [
    "np.mean(X[:,1])"
   ]
  },
  {
   "cell_type": "code",
   "execution_count": 16,
   "metadata": {},
   "outputs": [
    {
     "data": {
      "text/plain": [
       "0.3072949443539297"
      ]
     },
     "execution_count": 16,
     "metadata": {},
     "output_type": "execute_result"
    }
   ],
   "source": [
    "np.std(X[:, 1])"
   ]
  },
  {
   "cell_type": "markdown",
   "metadata": {},
   "source": [
    "## 均值方差归一化 Standardization"
   ]
  },
  {
   "cell_type": "code",
   "execution_count": 17,
   "metadata": {},
   "outputs": [],
   "source": [
    "X2 = np.random.randint(0, 100, (50, 2))"
   ]
  },
  {
   "cell_type": "code",
   "execution_count": 18,
   "metadata": {},
   "outputs": [],
   "source": [
    "X2 = np.array(X2, dtype=float)"
   ]
  },
  {
   "cell_type": "code",
   "execution_count": 19,
   "metadata": {},
   "outputs": [],
   "source": [
    "X2[:, 0] = (X2[:, 0] - np.mean(X2[:, 0])) / np.std(X2[:, 0])"
   ]
  },
  {
   "cell_type": "code",
   "execution_count": 20,
   "metadata": {},
   "outputs": [],
   "source": [
    "X2[:, 1] = (X2[:, 1] - np.mean(X2[:, 1])) / np.std(X2[:, 1])"
   ]
  },
  {
   "cell_type": "code",
   "execution_count": 21,
   "metadata": {},
   "outputs": [
    {
     "data": {
      "text/plain": [
       "<matplotlib.collections.PathCollection at 0x10b596198>"
      ]
     },
     "execution_count": 21,
     "metadata": {},
     "output_type": "execute_result"
    },
    {
     "data": {
      "image/png": "[encoded data removed]",
      "text/plain": [
       "<Figure size 432x288 with 1 Axes>"
      ]
     },
     "metadata": {},
     "output_type": "display_data"
    }
   ],
   "source": [
    "plt.scatter(X2[:, 0], X2[:, 1])"
   ]
  },
  {
   "cell_type": "code",
   "execution_count": 22,
   "metadata": {},
   "outputs": [
    {
     "data": {
      "text/plain": [
       "-1.1990408665951691e-16"
      ]
     },
     "execution_count": 22,
     "metadata": {},
     "output_type": "execute_result"
    }
   ],
   "source": [
    "np.mean(X2[:, 0])"
   ]
  },
  {
   "cell_type": "code",
   "execution_count": 23,
   "metadata": {},
   "outputs": [
    {
     "data": {
      "text/plain": [
       "1.0"
      ]
     },
     "execution_count": 23,
     "metadata": {},
     "output_type": "execute_result"
    }
   ],
   "source": [
    "np.std(X2[:, 0])"
   ]
  },
  {
   "cell_type": "code",
   "execution_count": 24,
   "metadata": {},
   "outputs": [
    {
     "data": {
      "text/plain": [
       "-8.215650382226158e-17"
      ]
     },
     "execution_count": 24,
     "metadata": {},
     "output_type": "execute_result"
    }
   ],
   "source": [
    "np.mean(X2[:, 1])"
   ]
  },
  {
   "cell_type": "code",
   "execution_count": 25,
   "metadata": {},
   "outputs": [
    {
     "data": {
      "text/plain": [
       "0.9999999999999999"
      ]
     },
     "execution_count": 25,
     "metadata": {},
     "output_type": "execute_result"
    }
   ],
   "source": [
    "np.std(X2[:, 1])"
   ]
  }
 ],
 "metadata": {
  "kernelspec": {
   "display_name": "Python 3",
   "language": "python",
   "name": "python3"
  },
  "language_info": {
   "codemirror_mode": {
    "name": "ipython",
    "version": 3
   },
   "file_extension": ".py",
   "mimetype": "text/x-python",
   "name": "python",
   "nbconvert_exporter": "python",
   "pygments_lexer": "ipython3",
   "version": "3.6.5"
  }
 },
 "nbformat": 4,
 "nbformat_minor": 2
}
